{
 "cells": [
  {
   "cell_type": "code",
   "execution_count": 1,
   "id": "3b7b1377",
   "metadata": {},
   "outputs": [],
   "source": [
    "import pandas as pd\n",
    "import numpy as np\n",
    "import seaborn as sns\n",
    "import matplotlib.pyplot as plt\n",
    "import re\n",
    "import joblib\n",
    "\n",
    "from sklearn.feature_extraction.text import TfidfVectorizer\n",
    "from sklearn.model_selection import train_test_split\n",
    "from sklearn.metrics import classification_report\n",
    "from sklearn.preprocessing import OneHotEncoder\n",
    "from sklearn.compose import ColumnTransformer\n",
    "\n",
    "from sklearn.linear_model import LogisticRegression\n",
    "from sklearn.tree import DecisionTreeRegressor\n",
    "from sklearn.ensemble import RandomForestRegressor, GradientBoostingRegressor\n",
    "from sklearn.model_selection import GridSearchCV\n",
    "from sklearn.model_selection import KFold\n",
    "from sklearn.model_selection import cross_val_score\n",
    "from sklearn.metrics import mean_squared_error"
   ]
  },
  {
   "cell_type": "markdown",
   "id": "0a479d62",
   "metadata": {},
   "source": [
    "Series_Title (Título da Série/Filme): O nome do filme ou série.  \n",
    "Released_Year (Ano de Lançamento): O ano em que o filme ou série foi lançado.  \n",
    "Certificate (Classificação Indicativa): A classificação indicativa do conteúdo (por exemplo, \"A\" pode significar adequado para todos, dependendo da região, ou algo como \"R\" para Restrito em outros sistemas).  \n",
    "Runtime (Duração): O tempo de duração do filme ou episódio da série, geralmente em minutos.  \n",
    "Genre (Gênero): O gênero cinematográfico do título (ex: Crime, Drama, Ação, Comédia).  \n",
    "IMDB_Rating (Avaliação do IMDB): A nota média do filme ou série no site IMDb, dada pelos usuários.  \n",
    "Overview (Sinopse/Visão Geral): Uma breve descrição ou resumo da trama do filme/série.  \n",
    "Meta_score (Pontuação Metacritic): A pontuação agregada do filme ou série no site Metacritic, que reúne avaliações de críticos profissionais.  \n",
    "Director (Diretor): O nome do diretor ou diretores responsáveis pelo filme/série.  \n",
    "Star1, Star2, Star3, Star4 (Ator/Atriz Principal 1, 2, 3, 4): Os nomes dos principais atores ou atrizes que participaram do elenco.  \n",
    "No_of_Votes (Número de Votos): O total de votos que o filme ou série recebeu no IMDb.  \n",
    "Gross: Faturamento "
   ]
  },
  {
   "cell_type": "markdown",
   "id": "f45c4e6a",
   "metadata": {},
   "source": [
    "# análise exploratória dos dados (EDA) - Questão 1"
   ]
  },
  {
   "cell_type": "code",
   "execution_count": 2,
   "id": "a4b4e332",
   "metadata": {},
   "outputs": [],
   "source": [
    "df = pd.read_csv('desafio_indicium_imdb.csv')\n",
    "df.drop(labels = [\"Unnamed: 0\"], axis = 1, inplace = True)"
   ]
  },
  {
   "cell_type": "code",
   "execution_count": 3,
   "id": "91d5f021",
   "metadata": {},
   "outputs": [
    {
     "data": {
      "text/plain": [
       "Index(['Series_Title', 'Released_Year', 'Certificate', 'Runtime', 'Genre',\n",
       "       'IMDB_Rating', 'Overview', 'Meta_score', 'Director', 'Star1', 'Star2',\n",
       "       'Star3', 'Star4', 'No_of_Votes', 'Gross'],\n",
       "      dtype='object')"
      ]
     },
     "execution_count": 3,
     "metadata": {},
     "output_type": "execute_result"
    }
   ],
   "source": [
    "df.columns"
   ]
  },
  {
   "cell_type": "code",
   "execution_count": 4,
   "id": "fd850873",
   "metadata": {},
   "outputs": [
    {
     "data": {
      "text/plain": [
       "Series_Title       0\n",
       "Released_Year      0\n",
       "Certificate      101\n",
       "Runtime            0\n",
       "Genre              0\n",
       "IMDB_Rating        0\n",
       "Overview           0\n",
       "Meta_score       157\n",
       "Director           0\n",
       "Star1              0\n",
       "Star2              0\n",
       "Star3              0\n",
       "Star4              0\n",
       "No_of_Votes        0\n",
       "Gross            169\n",
       "dtype: int64"
      ]
     },
     "execution_count": 4,
     "metadata": {},
     "output_type": "execute_result"
    }
   ],
   "source": [
    "df.isnull().sum()"
   ]
  },
  {
   "cell_type": "code",
   "execution_count": 5,
   "id": "5bd07ac3",
   "metadata": {},
   "outputs": [],
   "source": [
    "df.dropna(inplace=True)"
   ]
  },
  {
   "cell_type": "code",
   "execution_count": 6,
   "id": "667ba5fc",
   "metadata": {},
   "outputs": [
    {
     "name": "stdout",
     "output_type": "stream",
     "text": [
      "<class 'pandas.core.frame.DataFrame'>\n",
      "Index: 713 entries, 0 to 996\n",
      "Data columns (total 15 columns):\n",
      " #   Column         Non-Null Count  Dtype  \n",
      "---  ------         --------------  -----  \n",
      " 0   Series_Title   713 non-null    object \n",
      " 1   Released_Year  713 non-null    object \n",
      " 2   Certificate    713 non-null    object \n",
      " 3   Runtime        713 non-null    object \n",
      " 4   Genre          713 non-null    object \n",
      " 5   IMDB_Rating    713 non-null    float64\n",
      " 6   Overview       713 non-null    object \n",
      " 7   Meta_score     713 non-null    float64\n",
      " 8   Director       713 non-null    object \n",
      " 9   Star1          713 non-null    object \n",
      " 10  Star2          713 non-null    object \n",
      " 11  Star3          713 non-null    object \n",
      " 12  Star4          713 non-null    object \n",
      " 13  No_of_Votes    713 non-null    int64  \n",
      " 14  Gross          713 non-null    object \n",
      "dtypes: float64(2), int64(1), object(12)\n",
      "memory usage: 89.1+ KB\n"
     ]
    }
   ],
   "source": [
    "df.info()"
   ]
  },
  {
   "cell_type": "code",
   "execution_count": 7,
   "id": "0fbcdab8",
   "metadata": {},
   "outputs": [
    {
     "data": {
      "text/plain": [
       "(713,)"
      ]
     },
     "execution_count": 7,
     "metadata": {},
     "output_type": "execute_result"
    }
   ],
   "source": [
    "# Quantos filmes unicos temos no dataset?\n",
    "np.unique(df[\"Series_Title\"]).shape"
   ]
  },
  {
   "cell_type": "code",
   "execution_count": 8,
   "id": "13c1a916",
   "metadata": {},
   "outputs": [],
   "source": [
    "df = df[df['Released_Year'] != 'PG']"
   ]
  },
  {
   "cell_type": "code",
   "execution_count": 9,
   "id": "9da5dac5",
   "metadata": {},
   "outputs": [
    {
     "data": {
      "text/plain": [
       "('1930', '2019')"
      ]
     },
     "execution_count": 9,
     "metadata": {},
     "output_type": "execute_result"
    }
   ],
   "source": [
    "# Qual mais antigo e mais recente?\n",
    "df[\"Released_Year\"].min(), df[\"Released_Year\"].max()"
   ]
  },
  {
   "cell_type": "code",
   "execution_count": 10,
   "id": "33f6e78a",
   "metadata": {},
   "outputs": [],
   "source": [
    "# Converte para número, valores inválidos viram NaN\n",
    "df['Released_Year'] = pd.to_numeric(df['Released_Year'], errors='coerce')"
   ]
  },
  {
   "cell_type": "code",
   "execution_count": 11,
   "id": "972ffa32",
   "metadata": {},
   "outputs": [
    {
     "data": {
      "text/plain": [
       "Series_Title     0\n",
       "Released_Year    0\n",
       "Certificate      0\n",
       "Runtime          0\n",
       "Genre            0\n",
       "IMDB_Rating      0\n",
       "Overview         0\n",
       "Meta_score       0\n",
       "Director         0\n",
       "Star1            0\n",
       "Star2            0\n",
       "Star3            0\n",
       "Star4            0\n",
       "No_of_Votes      0\n",
       "Gross            0\n",
       "dtype: int64"
      ]
     },
     "execution_count": 11,
     "metadata": {},
     "output_type": "execute_result"
    }
   ],
   "source": [
    "df.isna().sum()"
   ]
  },
  {
   "cell_type": "code",
   "execution_count": 12,
   "id": "cef60200",
   "metadata": {},
   "outputs": [
    {
     "data": {
      "image/png": "[encoded data removed]",
      "text/plain": [
       "<Figure size 1000x600 with 1 Axes>"
      ]
     },
     "metadata": {},
     "output_type": "display_data"
    }
   ],
   "source": [
    "# Graifo de lançamentos de filme por decada\n",
    "df.loc[:, 'Decade'] = (df['Released_Year'] // 10) * 10\n",
    "\n",
    "decade_counts = df['Decade'].value_counts().sort_index()\n",
    "\n",
    "plt.figure(figsize=(10, 6))\n",
    "sns.barplot(x=decade_counts.index, y=decade_counts.values)\n",
    "plt.title('Número de Filmes Lançados por Década')\n",
    "plt.xlabel('Década')\n",
    "plt.ylabel('Número de Filmes')\n",
    "plt.xticks(rotation=45)\n",
    "plt.show()"
   ]
  },
  {
   "cell_type": "code",
   "execution_count": 13,
   "id": "81a49063",
   "metadata": {},
   "outputs": [],
   "source": [
    "df.drop(labels = [\"Decade\"], axis = 1, inplace = True)"
   ]
  },
  {
   "cell_type": "code",
   "execution_count": 14,
   "id": "ff8be570",
   "metadata": {},
   "outputs": [
    {
     "data": {
      "text/plain": [
       "Certificate\n",
       "U           182\n",
       "A           173\n",
       "UA          142\n",
       "R           131\n",
       "PG-13        38\n",
       "PG           19\n",
       "G             9\n",
       "Passed        9\n",
       "Approved      6\n",
       "TV-PG         1\n",
       "U/A           1\n",
       "GP            1\n",
       "Name: count, dtype: int64"
      ]
     },
     "execution_count": 14,
     "metadata": {},
     "output_type": "execute_result"
    }
   ],
   "source": [
    "# Classificação dos filmes mais comuns\n",
    "df['Certificate'].value_counts()"
   ]
  },
  {
   "cell_type": "code",
   "execution_count": 15,
   "id": "a6340322",
   "metadata": {},
   "outputs": [
    {
     "data": {
      "text/plain": [
       "Certificate\n",
       "Passed      8.044444\n",
       "G           8.022222\n",
       "Approved    8.016667\n",
       "TV-PG       8.000000\n",
       "A           7.993642\n",
       "U           7.960989\n",
       "UA          7.929577\n",
       "PG          7.905263\n",
       "R           7.866412\n",
       "PG-13       7.784211\n",
       "GP          7.600000\n",
       "U/A         7.600000\n",
       "Name: IMDB_Rating, dtype: float64"
      ]
     },
     "execution_count": 15,
     "metadata": {},
     "output_type": "execute_result"
    }
   ],
   "source": [
    "# Agrupando avaliação por certificado\n",
    "certificate_ratings = df.groupby('Certificate')['IMDB_Rating'].mean().sort_values(ascending=False)\n",
    "certificate_ratings"
   ]
  },
  {
   "cell_type": "code",
   "execution_count": 16,
   "id": "956dba25",
   "metadata": {},
   "outputs": [],
   "source": [
    "def modifies_runtime(runtime_str):\n",
    "    runtime_str = runtime_str.lower()\n",
    "    \n",
    "    runtime_str = re.sub(r'[^0-9]', '', runtime_str)\n",
    "    \n",
    "    return runtime_str"
   ]
  },
  {
   "cell_type": "code",
   "execution_count": 17,
   "id": "62ada100",
   "metadata": {},
   "outputs": [],
   "source": [
    "# MOdiciando valores da coluna Runtime\n",
    "df[\"Runtime\"] = df[\"Runtime\"].apply(modifies_runtime).astype(float)"
   ]
  },
  {
   "cell_type": "code",
   "execution_count": 18,
   "id": "e519b37e",
   "metadata": {},
   "outputs": [
    {
     "data": {
      "text/plain": [
       "np.float64(123.66713483146067)"
      ]
     },
     "execution_count": 18,
     "metadata": {},
     "output_type": "execute_result"
    }
   ],
   "source": [
    "# Media de duração dos filmes em minutos\n",
    "df[\"Runtime\"].mean()"
   ]
  },
  {
   "cell_type": "code",
   "execution_count": 19,
   "id": "69b000f8",
   "metadata": {},
   "outputs": [
    {
     "data": {
      "text/plain": [
       "(np.float64(72.0), np.float64(238.0))"
      ]
     },
     "execution_count": 19,
     "metadata": {},
     "output_type": "execute_result"
    }
   ],
   "source": [
    "# Minima e maxima duração dos filmes em minutos\n",
    "df[\"Runtime\"].min(), df[\"Runtime\"].max()"
   ]
  },
  {
   "cell_type": "code",
   "execution_count": 20,
   "id": "81894c9f",
   "metadata": {},
   "outputs": [
    {
     "data": {
      "text/plain": [
       "Genre\n",
       "Drama                           57\n",
       "Drama, Romance                  26\n",
       "Comedy, Drama                   24\n",
       "Crime, Drama, Thriller          22\n",
       "Action, Adventure, Sci-Fi       21\n",
       "Biography, Drama, History       20\n",
       "Animation, Adventure, Comedy    20\n",
       "Crime, Drama                    19\n",
       "Comedy, Drama, Romance          19\n",
       "Crime, Drama, Mystery           18\n",
       "Name: count, dtype: int64"
      ]
     },
     "execution_count": 20,
     "metadata": {},
     "output_type": "execute_result"
    }
   ],
   "source": [
    "# Generos mais populares\n",
    "df['Genre'].value_counts().head(10)"
   ]
  },
  {
   "cell_type": "code",
   "execution_count": 21,
   "id": "c63e4352",
   "metadata": {},
   "outputs": [
    {
     "data": {
      "text/plain": [
       "(np.float64(7.6), np.float64(9.2))"
      ]
     },
     "execution_count": 21,
     "metadata": {},
     "output_type": "execute_result"
    }
   ],
   "source": [
    "# Minima e maxima nota IMDB\n",
    "df[\"IMDB_Rating\"].min(), df[\"IMDB_Rating\"].max()"
   ]
  },
  {
   "cell_type": "code",
   "execution_count": 22,
   "id": "66d4b133",
   "metadata": {},
   "outputs": [
    {
     "data": {
      "image/png": "[encoded data removed]",
      "text/plain": [
       "<Figure size 1000x600 with 1 Axes>"
      ]
     },
     "metadata": {},
     "output_type": "display_data"
    }
   ],
   "source": [
    "# Distribuição das notas IMDB\n",
    "plt.figure(figsize=(10, 6))\n",
    "sns.histplot(df['IMDB_Rating'], bins=20, kde=True)\n",
    "plt.title('Distribuição das Notas IMDB')\n",
    "plt.xlabel('Nota IMDB')\n",
    "plt.ylabel('Frequência')\n",
    "plt.show()"
   ]
  },
  {
   "cell_type": "code",
   "execution_count": 23,
   "id": "1819aca9",
   "metadata": {},
   "outputs": [
    {
     "data": {
      "text/plain": [
       "[('Robert De Niro', 16),\n",
       " ('Al Pacino', 13),\n",
       " ('Tom Hanks', 13),\n",
       " ('Brad Pitt', 12),\n",
       " ('Christian Bale', 11),\n",
       " ('Leonardo DiCaprio', 11),\n",
       " ('Clint Eastwood', 11),\n",
       " ('Matt Damon', 11),\n",
       " ('Ethan Hawke', 9),\n",
       " ('Johnny Depp', 9)]"
      ]
     },
     "execution_count": 23,
     "metadata": {},
     "output_type": "execute_result"
    }
   ],
   "source": [
    "# Quais atores aparecem mais frequentemente?\n",
    "from collections import Counter\n",
    "actor_list = df['Star1'].tolist() + df['Star2'].tolist() + df['Star3'].tolist() + df['Star4'].tolist()\n",
    "actor_counts = Counter(actor_list)\n",
    "actor_counts.most_common(10)"
   ]
  },
  {
   "cell_type": "code",
   "execution_count": 24,
   "id": "2f9a0eab",
   "metadata": {},
   "outputs": [
    {
     "data": {
      "text/plain": [
       "Director\n",
       "Steven Spielberg     13\n",
       "Martin Scorsese      10\n",
       "Alfred Hitchcock      9\n",
       "David Fincher         8\n",
       "Clint Eastwood        8\n",
       "Christopher Nolan     8\n",
       "Quentin Tarantino     8\n",
       "Woody Allen           7\n",
       "Rob Reiner            7\n",
       "Hayao Miyazaki        7\n",
       "Name: count, dtype: int64"
      ]
     },
     "execution_count": 24,
     "metadata": {},
     "output_type": "execute_result"
    }
   ],
   "source": [
    "# Qual diretor mais frequente?\n",
    "direct_counts = df[\"Director\"].value_counts()\n",
    "direct_counts.head(10)"
   ]
  },
  {
   "cell_type": "code",
   "execution_count": 25,
   "id": "13f9343b",
   "metadata": {},
   "outputs": [
    {
     "data": {
      "text/plain": [
       "(np.int64(25229), np.int64(2303232))"
      ]
     },
     "execution_count": 25,
     "metadata": {},
     "output_type": "execute_result"
    }
   ],
   "source": [
    "# Minima e maxima número de votos\n",
    "df[\"No_of_Votes\"].min(), df[\"No_of_Votes\"].max()"
   ]
  },
  {
   "cell_type": "code",
   "execution_count": 26,
   "id": "cce82e29",
   "metadata": {},
   "outputs": [
    {
     "data": {
      "text/plain": [
       "np.float64(353466.231741573)"
      ]
     },
     "execution_count": 26,
     "metadata": {},
     "output_type": "execute_result"
    }
   ],
   "source": [
    "# Média do número de votos\n",
    "df[\"No_of_Votes\"].mean()"
   ]
  },
  {
   "cell_type": "code",
   "execution_count": 27,
   "id": "0e611ca1",
   "metadata": {},
   "outputs": [
    {
     "data": {
      "image/png": "[encoded data removed]",
      "text/plain": [
       "<Figure size 1000x800 with 2 Axes>"
      ]
     },
     "metadata": {},
     "output_type": "display_data"
    }
   ],
   "source": [
    "# Correlação entre colunas do dataset\n",
    "df_numerico = df.select_dtypes(include='number')\n",
    "\n",
    "plt.figure(figsize=(10, 8))\n",
    "sns.heatmap(df_numerico.corr(), annot=True, fmt=\".2f\", cmap=\"coolwarm\", cbar=True)\n",
    "plt.title(\"Mapa de Correlação entre Variáveis Numéricas\")\n",
    "plt.show()"
   ]
  },
  {
   "cell_type": "code",
   "execution_count": 28,
   "id": "60d33de1",
   "metadata": {},
   "outputs": [
    {
     "name": "stdout",
     "output_type": "stream",
     "text": [
      "              precision    recall  f1-score   support\n",
      "\n",
      "      Action       0.40      0.52      0.45        27\n",
      "   Adventure       0.11      0.12      0.12         8\n",
      "   Animation       0.30      0.23      0.26        13\n",
      "   Biography       0.32      0.55      0.40        11\n",
      "      Comedy       0.29      0.21      0.24        24\n",
      "       Crime       0.31      0.25      0.28        20\n",
      "       Drama       0.35      0.37      0.36        35\n",
      "      Family       0.00      0.00      0.00         1\n",
      "     Mystery       0.00      0.00      0.00         3\n",
      "     Western       0.00      0.00      0.00         1\n",
      "\n",
      "    accuracy                           0.33       143\n",
      "   macro avg       0.21      0.22      0.21       143\n",
      "weighted avg       0.31      0.33      0.31       143\n",
      "\n"
     ]
    }
   ],
   "source": [
    "# Codigo para a resposta da terceira questão\n",
    "tfidf = TfidfVectorizer(ngram_range=(1,2), max_features=10000)\n",
    "X = tfidf.fit_transform(df[\"Overview\"].fillna(\"\"))\n",
    "\n",
    "y = df[\"Genre\"].str.split(\",\").str[0]\n",
    "\n",
    "X_train, X_test, y_train, y_test = train_test_split(X, y, test_size = 0.2, random_state = 1)\n",
    "\n",
    "model = LogisticRegression(class_weight = \"balanced\",max_iter = 1000)\n",
    "model.fit(X_train, y_train)\n",
    "\n",
    "y_pred = model.predict(X_test)\n",
    "print(classification_report(y_test, y_pred, zero_division=0))"
   ]
  },
  {
   "cell_type": "code",
   "execution_count": 29,
   "id": "596a5e57",
   "metadata": {},
   "outputs": [
    {
     "data": {
      "text/plain": [
       "<bound method DataFrame.sort_values of                                       Series_Title  IMDB_Rating\n",
       "0                                    The Godfather          9.2\n",
       "1                                  The Dark Knight          9.0\n",
       "2                           The Godfather: Part II          9.0\n",
       "3                                     12 Angry Men          9.0\n",
       "4    The Lord of the Rings: The Return of the King          8.9\n",
       "..                                             ...          ...\n",
       "989                                   Giù la testa          7.6\n",
       "990                                 Kelly's Heroes          7.6\n",
       "991                                The Jungle Book          7.6\n",
       "993                             A Hard Day's Night          7.6\n",
       "996                          From Here to Eternity          7.6\n",
       "\n",
       "[712 rows x 2 columns]>"
      ]
     },
     "execution_count": 29,
     "metadata": {},
     "output_type": "execute_result"
    }
   ],
   "source": [
    "# Codigo para a resposta da primeira questão\n",
    "\n",
    "# Criando dataframe como title e imdb com valores decrescentes\n",
    "df_recommend = df[[\"Series_Title\", \"IMDB_Rating\"]].sort_values\n",
    "df_recommend"
   ]
  },
  {
   "cell_type": "code",
   "execution_count": 30,
   "id": "28cb1064",
   "metadata": {},
   "outputs": [],
   "source": [
    "# Codigo para a resposta da segunda questão\n",
    "\n",
    "actors = pd.melt(\n",
    "    df,\n",
    "    id_vars=['Gross'],\n",
    "    value_vars=['Star1', 'Star2', 'Star3', 'Star4'],\n",
    "    value_name='Actor'\n",
    ")"
   ]
  },
  {
   "cell_type": "code",
   "execution_count": 31,
   "id": "ccf5d77a",
   "metadata": {},
   "outputs": [
    {
     "name": "stdout",
     "output_type": "stream",
     "text": [
      "<class 'pandas.core.frame.DataFrame'>\n",
      "RangeIndex: 2848 entries, 0 to 2847\n",
      "Data columns (total 3 columns):\n",
      " #   Column    Non-Null Count  Dtype  \n",
      "---  ------    --------------  -----  \n",
      " 0   Gross     2848 non-null   float64\n",
      " 1   variable  2848 non-null   object \n",
      " 2   Actor     2848 non-null   object \n",
      "dtypes: float64(1), object(2)\n",
      "memory usage: 66.9+ KB\n"
     ]
    }
   ],
   "source": [
    "# Codigo para a resposta da segunda questão\n",
    "\n",
    "actors = actors.dropna(subset=[\"Actor\"])\n",
    "actors[\"Gross\"] = (actors[\"Gross\"]).replace(\"[\\$,]\", \"\", regex=True).astype(float)\n",
    "actors.info()"
   ]
  },
  {
   "cell_type": "code",
   "execution_count": 32,
   "id": "5d39601b",
   "metadata": {},
   "outputs": [
    {
     "name": "stdout",
     "output_type": "stream",
     "text": [
      "Actor\n",
      "John Boyega           9.366622e+08\n",
      "Daisy Ridley          9.366622e+08\n",
      "Michelle Rodriguez    7.605076e+08\n",
      "Billy Zane            6.593254e+08\n",
      "Huck Milner           6.085817e+08\n",
      "Sarah Vowell          6.085817e+08\n",
      "Joe Russo             5.512599e+08\n",
      "Aaron Eckhart         5.348584e+08\n",
      "Diego Luna            5.321773e+08\n",
      "Donnie Yen            5.321773e+08\n",
      "Name: Gross, dtype: float64\n"
     ]
    }
   ],
   "source": [
    "# Codigo para a resposta da segunda questão\n",
    "\n",
    "actor_gross = actors.groupby(\"Actor\")[\"Gross\"].mean().sort_values(ascending=False)\n",
    "print(actor_gross.head(10))"
   ]
  },
  {
   "cell_type": "markdown",
   "id": "0de81e75",
   "metadata": {},
   "source": [
    "**Resultado do EDA**\n",
    "Total de títulos após limpeza: 713 itens.  \n",
    "Período coberto: 1930 a 2019.  \n",
    "Certificados mais comuns: U, A, UA e R.  \n",
    "Gêneros mais frequentes:\n",
    "- Drama  \n",
    "- Drama e Romance  \n",
    "- Comedy e Drama  \n",
    "-  Crime, Drama e Thriller  \n",
    "- Action, Adventure e Sci-Fi\n",
    "\n",
    "Duração média dos filmes: 123,7 minutos.  \n",
    "Atores mais recorrentes: Robert De Niro, Al Pacino, Tom Hanks, Brad Pitt, Christian Bale.  \n",
    "Diretores mais recorrentes: Steven Spielberg, Martin Scorsese, Alfred Hitchcock, David Fincher, Clint Eastwood.  "
   ]
  },
  {
   "cell_type": "markdown",
   "id": "9404d6bf",
   "metadata": {},
   "source": [
    "## Perguntas e Respostas - Questão 2"
   ]
  },
  {
   "cell_type": "markdown",
   "id": "04b58b47",
   "metadata": {},
   "source": [
    "a. **Qual filme você recomendaria para uma pessoa que você não conhece:**  \n",
    "\n",
    "Eu recomendaria filmes baseados na notas IMDB que seria algo the The Lord of the Rings: The Return of the King e The Godfather"
   ]
  },
  {
   "cell_type": "markdown",
   "id": "bd9c991c",
   "metadata": {},
   "source": [
    "b. **Quais são os principais fatores que estão relacionados com alta expectativa de faturamento de um filme?**  \n",
    "\n",
    "Observa-se que filmes com a participação de atores como John Boyega, Daisy Ridley e Michelle Rodriguez tendem a ter bilheteria mais alta."
   ]
  },
  {
   "cell_type": "markdown",
   "id": "3681dddc",
   "metadata": {},
   "source": [
    "c. **Quais insights podem ser tirados com a coluna Overview? É possível inferir o gênero do filme a partir dessa coluna?**  \n",
    "\n",
    "**Informação textual é limitada para classes pequenas** \n",
    "\n",
    "*   Classes como Family, Mystery, Western não foram previstas pelo modelo.\n",
    "*   Isso indica que as sinopses desses filmes são muito raras ou genéricas para o modelo identificar padrões distintos.\n",
    "\n",
    "**Palavras-chave podem indicar gênero**\n",
    "\n",
    "*  Para gêneros mais frequentes (Action, Drama, Biography), o modelo consegue capturar algumas pistas do texto, como termos relacionados a ação, conflito, vida real, etc.\n",
    "*   Isso mostra que a coluna Overview tem potencial para indicar o gênero, mas precisa de técnicas melhores de NLP.\n",
    "\n",
    "A coluna Overview tem potencial para prever gênero, mas é insuficiente por si só com técnicas básicas.\n",
    "\n",
    "Para gerar insights mais confiáveis, é necessário tratar desequilíbrio de classes, usar embeddings e modelos de NLP mais avançados, além de explorar métricas de avaliação que considerem classes raras."
   ]
  },
  {
   "cell_type": "markdown",
   "id": "0b838029",
   "metadata": {},
   "source": [
    "# Treinamento de Modelo"
   ]
  },
  {
   "cell_type": "code",
   "execution_count": 33,
   "id": "d34aec68",
   "metadata": {},
   "outputs": [],
   "source": [
    "df.drop(labels = [\"Series_Title\", \"Overview\"], axis = 1, inplace = True)"
   ]
  },
  {
   "cell_type": "code",
   "execution_count": 34,
   "id": "bb90e7fc",
   "metadata": {},
   "outputs": [
    {
     "data": {
      "text/html": [
       "<div>\n",
       "<style scoped>\n",
       "    .dataframe tbody tr th:only-of-type {\n",
       "        vertical-align: middle;\n",
       "    }\n",
       "\n",
       "    .dataframe tbody tr th {\n",
       "        vertical-align: top;\n",
       "    }\n",
       "\n",
       "    .dataframe thead th {\n",
       "        text-align: right;\n",
       "    }\n",
       "</style>\n",
       "<table border=\"1\" class=\"dataframe\">\n",
       "  <thead>\n",
       "    <tr style=\"text-align: right;\">\n",
       "      <th></th>\n",
       "      <th>Released_Year</th>\n",
       "      <th>Certificate</th>\n",
       "      <th>Runtime</th>\n",
       "      <th>Genre</th>\n",
       "      <th>IMDB_Rating</th>\n",
       "      <th>Meta_score</th>\n",
       "      <th>Director</th>\n",
       "      <th>Star1</th>\n",
       "      <th>Star2</th>\n",
       "      <th>Star3</th>\n",
       "      <th>Star4</th>\n",
       "      <th>No_of_Votes</th>\n",
       "      <th>Gross</th>\n",
       "    </tr>\n",
       "  </thead>\n",
       "  <tbody>\n",
       "    <tr>\n",
       "      <th>0</th>\n",
       "      <td>1972</td>\n",
       "      <td>A</td>\n",
       "      <td>175.0</td>\n",
       "      <td>Crime, Drama</td>\n",
       "      <td>9.2</td>\n",
       "      <td>100.0</td>\n",
       "      <td>Francis Ford Coppola</td>\n",
       "      <td>Marlon Brando</td>\n",
       "      <td>Al Pacino</td>\n",
       "      <td>James Caan</td>\n",
       "      <td>Diane Keaton</td>\n",
       "      <td>1620367</td>\n",
       "      <td>134,966,411</td>\n",
       "    </tr>\n",
       "    <tr>\n",
       "      <th>1</th>\n",
       "      <td>2008</td>\n",
       "      <td>UA</td>\n",
       "      <td>152.0</td>\n",
       "      <td>Action, Crime, Drama</td>\n",
       "      <td>9.0</td>\n",
       "      <td>84.0</td>\n",
       "      <td>Christopher Nolan</td>\n",
       "      <td>Christian Bale</td>\n",
       "      <td>Heath Ledger</td>\n",
       "      <td>Aaron Eckhart</td>\n",
       "      <td>Michael Caine</td>\n",
       "      <td>2303232</td>\n",
       "      <td>534,858,444</td>\n",
       "    </tr>\n",
       "    <tr>\n",
       "      <th>2</th>\n",
       "      <td>1974</td>\n",
       "      <td>A</td>\n",
       "      <td>202.0</td>\n",
       "      <td>Crime, Drama</td>\n",
       "      <td>9.0</td>\n",
       "      <td>90.0</td>\n",
       "      <td>Francis Ford Coppola</td>\n",
       "      <td>Al Pacino</td>\n",
       "      <td>Robert De Niro</td>\n",
       "      <td>Robert Duvall</td>\n",
       "      <td>Diane Keaton</td>\n",
       "      <td>1129952</td>\n",
       "      <td>57,300,000</td>\n",
       "    </tr>\n",
       "    <tr>\n",
       "      <th>3</th>\n",
       "      <td>1957</td>\n",
       "      <td>U</td>\n",
       "      <td>96.0</td>\n",
       "      <td>Crime, Drama</td>\n",
       "      <td>9.0</td>\n",
       "      <td>96.0</td>\n",
       "      <td>Sidney Lumet</td>\n",
       "      <td>Henry Fonda</td>\n",
       "      <td>Lee J. Cobb</td>\n",
       "      <td>Martin Balsam</td>\n",
       "      <td>John Fiedler</td>\n",
       "      <td>689845</td>\n",
       "      <td>4,360,000</td>\n",
       "    </tr>\n",
       "    <tr>\n",
       "      <th>4</th>\n",
       "      <td>2003</td>\n",
       "      <td>U</td>\n",
       "      <td>201.0</td>\n",
       "      <td>Action, Adventure, Drama</td>\n",
       "      <td>8.9</td>\n",
       "      <td>94.0</td>\n",
       "      <td>Peter Jackson</td>\n",
       "      <td>Elijah Wood</td>\n",
       "      <td>Viggo Mortensen</td>\n",
       "      <td>Ian McKellen</td>\n",
       "      <td>Orlando Bloom</td>\n",
       "      <td>1642758</td>\n",
       "      <td>377,845,905</td>\n",
       "    </tr>\n",
       "  </tbody>\n",
       "</table>\n",
       "</div>"
      ],
      "text/plain": [
       "   Released_Year Certificate  Runtime                     Genre  IMDB_Rating  \\\n",
       "0           1972           A    175.0              Crime, Drama          9.2   \n",
       "1           2008          UA    152.0      Action, Crime, Drama          9.0   \n",
       "2           1974           A    202.0              Crime, Drama          9.0   \n",
       "3           1957           U     96.0              Crime, Drama          9.0   \n",
       "4           2003           U    201.0  Action, Adventure, Drama          8.9   \n",
       "\n",
       "   Meta_score              Director           Star1            Star2  \\\n",
       "0       100.0  Francis Ford Coppola   Marlon Brando        Al Pacino   \n",
       "1        84.0     Christopher Nolan  Christian Bale     Heath Ledger   \n",
       "2        90.0  Francis Ford Coppola       Al Pacino   Robert De Niro   \n",
       "3        96.0          Sidney Lumet     Henry Fonda      Lee J. Cobb   \n",
       "4        94.0         Peter Jackson     Elijah Wood  Viggo Mortensen   \n",
       "\n",
       "           Star3          Star4  No_of_Votes        Gross  \n",
       "0     James Caan   Diane Keaton      1620367  134,966,411  \n",
       "1  Aaron Eckhart  Michael Caine      2303232  534,858,444  \n",
       "2  Robert Duvall   Diane Keaton      1129952   57,300,000  \n",
       "3  Martin Balsam   John Fiedler       689845    4,360,000  \n",
       "4   Ian McKellen  Orlando Bloom      1642758  377,845,905  "
      ]
     },
     "execution_count": 34,
     "metadata": {},
     "output_type": "execute_result"
    }
   ],
   "source": [
    "df.head()"
   ]
  },
  {
   "cell_type": "code",
   "execution_count": 35,
   "id": "5ce51f6b",
   "metadata": {},
   "outputs": [],
   "source": [
    "# Remover vírgulas e converter para float\n",
    "\n",
    "df['Gross'] = df['Gross'].str.replace(',', '').astype(float)"
   ]
  },
  {
   "cell_type": "code",
   "execution_count": 36,
   "id": "04551791",
   "metadata": {},
   "outputs": [],
   "source": [
    "X = df.drop(columns = [\"IMDB_Rating\"])\n",
    "\n",
    "categorical_cols = [\"Certificate\", \"Genre\", \"Director\", \"Star1\", \"Star2\", \"Star3\", \"Star4\"]\n",
    "numeric_cols = [\"Released_Year\", \"Runtime\", \"Meta_score\", \"No_of_Votes\", \"Gross\"]\n",
    "\n",
    "preprocessor = ColumnTransformer(\n",
    "    transformers = [\n",
    "        (\"cat\", OneHotEncoder(handle_unknown='ignore'), categorical_cols),\n",
    "        (\"num\", \"passthrough\", numeric_cols)\n",
    "    ]\n",
    ")\n",
    "\n",
    "X_transformed = preprocessor.fit_transform(X)"
   ]
  },
  {
   "cell_type": "code",
   "execution_count": 37,
   "id": "e898f4fc",
   "metadata": {},
   "outputs": [],
   "source": [
    "feature_names = preprocessor.named_transformers_['cat'].get_feature_names_out(categorical_cols)\n",
    "all_feature_names = list(feature_names) + numeric_cols"
   ]
  },
  {
   "cell_type": "code",
   "execution_count": 38,
   "id": "28f47725",
   "metadata": {},
   "outputs": [],
   "source": [
    "X_transformed_df = pd.DataFrame(X_transformed.toarray() if hasattr(X_transformed, \"toarray\") else X_transformed, columns = all_feature_names)"
   ]
  },
  {
   "cell_type": "code",
   "execution_count": 39,
   "id": "f731fe68",
   "metadata": {},
   "outputs": [],
   "source": [
    "X_train, X_test, y_train, y_test = train_test_split(X_transformed, df[\"IMDB_Rating\"], test_size = 0.2, random_state = 1)"
   ]
  },
  {
   "cell_type": "code",
   "execution_count": 40,
   "id": "ef9d6ac8",
   "metadata": {},
   "outputs": [
    {
     "data": {
      "text/plain": [
       "((569, 2953), (143, 2953))"
      ]
     },
     "execution_count": 40,
     "metadata": {},
     "output_type": "execute_result"
    }
   ],
   "source": [
    "X_train.shape, X_test.shape"
   ]
  },
  {
   "cell_type": "markdown",
   "id": "b13827f0",
   "metadata": {},
   "source": [
    "## Tuning de parâmetros"
   ]
  },
  {
   "cell_type": "markdown",
   "id": "3ad94c32",
   "metadata": {},
   "source": [
    "### Decision Tree Regressor"
   ]
  },
  {
   "cell_type": "code",
   "execution_count": 41,
   "id": "b42761ac",
   "metadata": {},
   "outputs": [],
   "source": [
    "params_dt = {\n",
    "    \"criterion\": [\"squared_error\", \"friedman_mse\", \"absolute_error\"],\n",
    "    \"splitter\": [\"best\", \"random\"],\n",
    "    \"min_samples_split\": [2, 5, 10],\n",
    "    \"min_samples_leaf\": [1, 5, 10],\n",
    "    \"max_depth\": [None, 5, 10, 20]\n",
    "}"
   ]
  },
  {
   "cell_type": "code",
   "execution_count": null,
   "id": "b6e30ff8",
   "metadata": {},
   "outputs": [],
   "source": [
    "grid_search = GridSearchCV(estimator = DecisionTreeRegressor(), param_grid = params_dt)\n",
    "grid_search.fit(X_train, y_train)\n",
    "best_params = grid_search.best_params_\n",
    "best_result = grid_search.best_score_\n",
    "print(best_params, best_result)"
   ]
  },
  {
   "cell_type": "markdown",
   "id": "35895bb8",
   "metadata": {},
   "source": [
    "Melhores parametros  \n",
    "Criterion: friedman_mse  \n",
    "max_depth: 5  \n",
    "min_samples_leaf: 5  \n",
    "min_samples_split: 5  \n",
    "splitter: random  "
   ]
  },
  {
   "cell_type": "markdown",
   "id": "e2a62062",
   "metadata": {},
   "source": [
    "### Random Forest Regressor"
   ]
  },
  {
   "cell_type": "code",
   "execution_count": null,
   "id": "5ec1f20e",
   "metadata": {},
   "outputs": [],
   "source": [
    "params_rf = {\n",
    "    \"n_estimators\": [100, 200, 300],\n",
    "    \"max_depth\": [None, 10, 20],\n",
    "    \"min_samples_split\": [2, 5, 10],\n",
    "    \"min_samples_leaf\": [1, 2, 5]\n",
    "}\n",
    "\n",
    "grid_search = GridSearchCV(estimator = RandomForestRegressor(), param_grid = params_rf)\n",
    "grid_search.fit(X_train, y_train)\n",
    "best_params = grid_search.best_params_\n",
    "best_result = grid_search.best_score_\n",
    "print(best_params, best_result)"
   ]
  },
  {
   "cell_type": "markdown",
   "id": "4ce18174",
   "metadata": {},
   "source": [
    "Melhores paramatros  \n",
    "Max_depth: 10  \n",
    "Min_samples_leaf: 2  \n",
    "min_samples_split: 2  \n",
    "n_estimators: 200  "
   ]
  },
  {
   "cell_type": "markdown",
   "id": "aefd1fba",
   "metadata": {},
   "source": [
    "### Gradient Boosting Regressor"
   ]
  },
  {
   "cell_type": "code",
   "execution_count": null,
   "id": "03223c0f",
   "metadata": {},
   "outputs": [],
   "source": [
    "params_gb = {\n",
    "    \"n_estimators\": [100, 200],\n",
    "    \"learning_rate\": [0.01, 0.1, 0.2],\n",
    "    \"max_depth\": [3, 5, 10],\n",
    "    \"min_samples_split\": [2, 5],\n",
    "    \"min_samples_leaf\": [1, 2, 5]\n",
    "}\n",
    "\n",
    "grid_search = GridSearchCV(estimator = GradientBoostingRegressor(), param_grid = params_gb)\n",
    "grid_search.fit(X_train, y_train)\n",
    "best_params = grid_search.best_params_\n",
    "best_result = grid_search.best_score_\n",
    "print(best_params, best_result)"
   ]
  },
  {
   "cell_type": "markdown",
   "id": "80b61982",
   "metadata": {},
   "source": [
    "Melhores parametros  \n",
    "learning_rate: 0.1  \n",
    "max_depth: 3  \n",
    "min_samples_leaf: 5  \n",
    "min_samples_split: 2  \n",
    "n_estimators: 100  "
   ]
  },
  {
   "cell_type": "markdown",
   "id": "d2c3f7f2",
   "metadata": {},
   "source": [
    "## Validação cruzada"
   ]
  },
  {
   "cell_type": "code",
   "execution_count": null,
   "id": "cef59c86",
   "metadata": {},
   "outputs": [],
   "source": [
    "resuls_tree = []\n",
    "results_forest = []\n",
    "results_boosting = []\n",
    "\n",
    "for i in range(30):\n",
    "    kfold = KFold(n_splits = 10, shuffle = True, random_state = 1)\n",
    "    tree = DecisionTreeRegressor(criterion = \"squared_error\", max_depth = 5, min_samples_leaf = 5, min_samples_split = 5, splitter= \"best\")\n",
    "    scores = cross_val_score(tree, X_train, y_train, cv = kfold)\n",
    "    resuls_tree.append(scores.mean())\n",
    "    \n",
    "    random_forest = RandomForestRegressor(max_depth = 10, min_samples_leaf = 2, min_samples_split = 2, n_estimators = 300)\n",
    "    scores = cross_val_score(random_forest, X_train, y_train, cv = kfold)\n",
    "    results_forest.append(scores.mean())\n",
    "    \n",
    "    boosting = GradientBoostingRegressor(learning_rate = 0.1, max_depth = 3, min_samples_leaf = 5, min_samples_split = 2, n_estimators = 100)\n",
    "    scores = cross_val_score(boosting, X_train, y_train, cv = kfold)\n",
    "    results_boosting.append(scores.mean())"
   ]
  },
  {
   "cell_type": "code",
   "execution_count": null,
   "id": "80fa46c6",
   "metadata": {},
   "outputs": [
    {
     "data": {
      "text/html": [
       "<div>\n",
       "<style scoped>\n",
       "    .dataframe tbody tr th:only-of-type {\n",
       "        vertical-align: middle;\n",
       "    }\n",
       "\n",
       "    .dataframe tbody tr th {\n",
       "        vertical-align: top;\n",
       "    }\n",
       "\n",
       "    .dataframe thead th {\n",
       "        text-align: right;\n",
       "    }\n",
       "</style>\n",
       "<table border=\"1\" class=\"dataframe\">\n",
       "  <thead>\n",
       "    <tr style=\"text-align: right;\">\n",
       "      <th></th>\n",
       "      <th>Decision Tree</th>\n",
       "      <th>Random Forest</th>\n",
       "      <th>Gradient Boosting</th>\n",
       "    </tr>\n",
       "  </thead>\n",
       "  <tbody>\n",
       "    <tr>\n",
       "      <th>count</th>\n",
       "      <td>10.000000</td>\n",
       "      <td>10.000000</td>\n",
       "      <td>10.000000</td>\n",
       "    </tr>\n",
       "    <tr>\n",
       "      <th>mean</th>\n",
       "      <td>0.390894</td>\n",
       "      <td>0.572362</td>\n",
       "      <td>0.578581</td>\n",
       "    </tr>\n",
       "    <tr>\n",
       "      <th>std</th>\n",
       "      <td>0.002783</td>\n",
       "      <td>0.001637</td>\n",
       "      <td>0.000058</td>\n",
       "    </tr>\n",
       "    <tr>\n",
       "      <th>min</th>\n",
       "      <td>0.386480</td>\n",
       "      <td>0.568713</td>\n",
       "      <td>0.578506</td>\n",
       "    </tr>\n",
       "    <tr>\n",
       "      <th>25%</th>\n",
       "      <td>0.390770</td>\n",
       "      <td>0.571592</td>\n",
       "      <td>0.578522</td>\n",
       "    </tr>\n",
       "    <tr>\n",
       "      <th>50%</th>\n",
       "      <td>0.391310</td>\n",
       "      <td>0.572878</td>\n",
       "      <td>0.578582</td>\n",
       "    </tr>\n",
       "    <tr>\n",
       "      <th>75%</th>\n",
       "      <td>0.391851</td>\n",
       "      <td>0.573314</td>\n",
       "      <td>0.578640</td>\n",
       "    </tr>\n",
       "    <tr>\n",
       "      <th>max</th>\n",
       "      <td>0.396140</td>\n",
       "      <td>0.574215</td>\n",
       "      <td>0.578640</td>\n",
       "    </tr>\n",
       "  </tbody>\n",
       "</table>\n",
       "</div>"
      ],
      "text/plain": [
       "       Decision Tree  Random Forest  Gradient Boosting\n",
       "count      10.000000      10.000000          10.000000\n",
       "mean        0.390894       0.572362           0.578581\n",
       "std         0.002783       0.001637           0.000058\n",
       "min         0.386480       0.568713           0.578506\n",
       "25%         0.390770       0.571592           0.578522\n",
       "50%         0.391310       0.572878           0.578582\n",
       "75%         0.391851       0.573314           0.578640\n",
       "max         0.396140       0.574215           0.578640"
      ]
     },
     "execution_count": 173,
     "metadata": {},
     "output_type": "execute_result"
    }
   ],
   "source": [
    "results = pd.DataFrame({\n",
    "    \"Decision Tree\": resuls_tree,\n",
    "    \"Random Forest\": results_forest,\n",
    "    \"Gradient Boosting\": results_boosting\n",
    "})\n",
    "results.describe()"
   ]
  },
  {
   "cell_type": "code",
   "execution_count": 43,
   "id": "cf62927e",
   "metadata": {},
   "outputs": [],
   "source": [
    "boosting = GradientBoostingRegressor(learning_rate = 0.1, max_depth = 3, min_samples_leaf = 5, min_samples_split = 2, n_estimators = 100)\n",
    "boosting.fit(X_train, y_train)\n",
    "y_pred = boosting.predict(X_test)"
   ]
  },
  {
   "cell_type": "code",
   "execution_count": 44,
   "id": "04733ffd",
   "metadata": {},
   "outputs": [
    {
     "data": {
      "text/plain": [
       "0.04186552347056919"
      ]
     },
     "execution_count": 44,
     "metadata": {},
     "output_type": "execute_result"
    }
   ],
   "source": [
    "mean_squared_error(y_test, y_pred)"
   ]
  },
  {
   "cell_type": "markdown",
   "id": "dfc86692",
   "metadata": {},
   "source": [
    "# Perguntas e respostas - Questão 3"
   ]
  },
  {
   "cell_type": "markdown",
   "id": "b8cb493a",
   "metadata": {},
   "source": [
    "a.\t**Explique como você faria a previsão da nota do imdb a partir dos dados.**   \n",
    "\n",
    "Primeiro, identifiquei a variável alvo, que neste caso é IMDB_Rating, e em seguida selecionei as variáveis preditivas, correspondentes às demais colunas, excluindo Series_Title e Sinopse, pois considerei que poderiam atrapalhar o desempenho do modelo.  \n",
    "\n",
    "No passo anterior, tratei os valores faltantes removendo-os do dataset, portanto não foi necessário aplicar outro tipo de imputação. Transformei variáveis do tipo object em float para facilitar o processamento pelo modelo e realizei o tratamento das variáveis categóricas utilizando OneHotEncoder.  \n",
    "\n",
    "Inicialmente, apliquei escalonamento nos dados numéricos, mas isso resultou em uma queda significativa na acurácia do modelo, então decidi reverter essa etapa.  "
   ]
  },
  {
   "cell_type": "markdown",
   "id": "8f8af4ab",
   "metadata": {},
   "source": [
    "b. **Quais variáveis e/ou suas transformações você utilizou e por quê?**  \n",
    "\n",
    "Utilizei todas as colunas como variáveis preditivas, exceto Series_Title e Overview, pois considerei que poderiam prejudicar o desempenho do modelo. Além disso, realizei a transformação OneHotEncoder nas colunas categóricas para convertê-las em formato numérico, permitindo que o modelo as interpretasse corretamente.  "
   ]
  },
  {
   "cell_type": "markdown",
   "id": "3ccd6d15",
   "metadata": {},
   "source": [
    "c. **Qual tipo de problema estamos resolvendo (regressão, classificação)?**  \n",
    "\n",
    "O problema que estou resolvendo é de regressão, pois o objetivo é prever um valor contínuo, que no meu caso é o IMDB_Rating."
   ]
  },
  {
   "cell_type": "markdown",
   "id": "d809087f",
   "metadata": {},
   "source": [
    "d. **Qual modelo melhor se aproxima dos dados e quais seus prós e contras?**  \n",
    "\n",
    "O modelo que melhor se aproxima dos dados é o Gradient Boosting, pois apresenta a maior média de acurácia/score (0.578581) e a menor variação (std = 0.000058), indicando previsões mais consistentes.  \n",
    "\n",
    "Prós: Alta precisão, bom para dados complexos, lida bem com interações entre variáveis.  \n",
    "Contras: Mais lento para treinar, sensível a hyperparâmetros, risco de overfitting se não regulado."
   ]
  },
  {
   "cell_type": "markdown",
   "id": "862faf7f",
   "metadata": {},
   "source": [
    "e. **Qual medida de performance do modelo foi escolhida e por quê?**  \n",
    "\n",
    "A medida de performance escolhida foi o Mean Squared Error (MSE), que calcula a média dos erros ao quadrado entre os valores previstos e os valores reais. Essa métrica foi escolhida porque é adequada para problemas de regressão, penaliza mais fortemente grandes erros e permite avaliar com clareza o quão próximo o modelo está das previsões corretas. Quanto menor o MSE, melhor o desempenho do modelo."
   ]
  },
  {
   "cell_type": "markdown",
   "id": "16454d92",
   "metadata": {},
   "source": [
    " 4. Supondo um filme com as seguintes características:\n",
    "\n",
    " new_movie = {  \n",
    "    'Series_Title': 'The Shawshank Redemption',  \n",
    "    'Released_Year': 1994,  \n",
    "    'Certificate': 'A',  \n",
    "    'Runtime': '142 min',  \n",
    "    'Genre': 'Drama',  \n",
    "    'Overview': 'Two imprisoned men bond over a number of years, finding solace and eventual redemption through acts of common decency.',  \n",
    "    'Meta_score': 80.0,  \n",
    "    'Director': 'Frank Darabont',  \n",
    "    'Star1': 'Tim Robbins',  \n",
    "    'Star2': 'Morgan Freeman',  \n",
    "    'Star3': 'Bob Gunton',  \n",
    "    'Star4': 'William Sadler',  \n",
    "    'No_of_Votes': 2343110,  \n",
    "    'Gross': '28,341,469'  \n",
    "}  \n",
    "Qual seria a nota do IMDB?"
   ]
  },
  {
   "cell_type": "code",
   "execution_count": null,
   "id": "3fe209e1",
   "metadata": {},
   "outputs": [
    {
     "name": "stdout",
     "output_type": "stream",
     "text": [
      "A previsão de IMDB Rating para o filme 'The Shawshank Redemption' é: 8.75\n"
     ]
    }
   ],
   "source": [
    "new_movie = {\n",
    "    'Series_Title': 'The Shawshank Redemption',\n",
    "    'Released_Year': 1994,\n",
    "    'Certificate': 'A',\n",
    "    'Runtime': '142 min',\n",
    "    'Genre': 'Drama',\n",
    "    'Overview': 'Two imprisoned men bond over a number of years, finding solace and eventual redemption through acts of common decency.',\n",
    "    'Meta_score': 80.0,\n",
    "    'Director': 'Frank Darabont',\n",
    "    'Star1': 'Tim Robbins',\n",
    "    'Star2': 'Morgan Freeman',\n",
    "    'Star3': 'Bob Gunton',\n",
    "    'Star4': 'William Sadler',\n",
    "    'No_of_Votes': 2343110,\n",
    "    'Gross': '28,341,469'\n",
    "}\n",
    "\n",
    "# Seguindo o mesmo fluxo que segui durante o treinamento\n",
    "df_new_movie = pd.DataFrame([new_movie])\n",
    "df_new_movie.drop(labels = [\"Series_Title\", \"Overview\"], axis = 1, inplace = True)\n",
    "df_new_movie['Gross'] = df_new_movie['Gross'].str.replace(',', '').astype(float)\n",
    "df_new_movie[\"Runtime\"] = df_new_movie[\"Runtime\"].apply(modifies_runtime).astype(float)\n",
    "df_new_movie_transformed = preprocessor.transform(df_new_movie)\n",
    "y_new_pred = boosting.predict(df_new_movie_transformed)\n",
    "print(f\"A previsão de IMDB Rating para o filme '{new_movie['Series_Title']}' é: {y_new_pred[0]:.2f}\")"
   ]
  },
  {
   "cell_type": "markdown",
   "id": "4fc0f296",
   "metadata": {},
   "source": [
    "5. **Salve o modelo desenvolvido no formato .pkl.**"
   ]
  },
  {
   "cell_type": "code",
   "execution_count": null,
   "id": "99a37a1f",
   "metadata": {},
   "outputs": [
    {
     "data": {
      "text/plain": [
       "['model_boosting.pkl']"
      ]
     },
     "execution_count": 188,
     "metadata": {},
     "output_type": "execute_result"
    }
   ],
   "source": [
    "joblib.dump(boosting, \"model_boosting.pkl\")"
   ]
  }
 ],
 "metadata": {
  "kernelspec": {
   "display_name": "spacy_env",
   "language": "python",
   "name": "python3"
  },
  "language_info": {
   "codemirror_mode": {
    "name": "ipython",
    "version": 3
   },
   "file_extension": ".py",
   "mimetype": "text/x-python",
   "name": "python",
   "nbconvert_exporter": "python",
   "pygments_lexer": "ipython3",
   "version": "3.10.18"
  }
 },
 "nbformat": 4,
 "nbformat_minor": 5
}
